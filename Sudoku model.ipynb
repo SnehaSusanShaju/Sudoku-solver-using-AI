{
 "cells": [
  {
   "cell_type": "code",
   "execution_count": 1,
   "id": "07983419",
   "metadata": {},
   "outputs": [],
   "source": [
    "#Loading Libraries\n",
    "\n",
    "import numpy as np \n",
    "import pandas as pd\n",
    "import seaborn as sns\n",
    "import matplotlib.pyplot as plt\n",
    "import os, random\n",
    "import cv2\n",
    "from glob import glob\n",
    "import sklearn\n",
    "from sklearn.model_selection import train_test_split\n",
    "from tensorflow.keras.models import Model\n",
    "from tensorflow.keras.models import load_model\n",
    "import pickle\n"
   ]
  },
  {
   "cell_type": "code",
   "execution_count": 28,
   "id": "98a37979",
   "metadata": {},
   "outputs": [],
   "source": [
    "import tensorflow as tf\n",
    "from tensorflow import keras\n",
    "from tensorflow.keras.preprocessing.image import ImageDataGenerator\n",
    "from keras.preprocessing.image import ImageDataGenerator\n",
    "##\n",
    "from tensorflow.keras.utils import load_img\n",
    "from keras.utils.np_utils import to_categorical\n",
    "from tensorflow.keras.models import Sequential\n",
    "from tensorflow.keras.layers import Activation, Dropout, Dense, Flatten, BatchNormalization, Conv2D, MaxPooling2D\n",
    "from tensorflow.keras.optimizers import Adam\n",
    "from tensorflow.keras import backend as K\n",
    "from tensorflow.keras.preprocessing import image\n"
   ]
  },
  {
   "cell_type": "code",
   "execution_count": 3,
   "id": "398d8222",
   "metadata": {},
   "outputs": [],
   "source": [
    "from sklearn.metrics import accuracy_score, classification_report\n",
    "from pathlib import Path\n",
    "from PIL import Image \n",
    "from tensorflow.keras import regularizers"
   ]
  },
  {
   "cell_type": "code",
   "execution_count": 4,
   "id": "17807a23",
   "metadata": {},
   "outputs": [],
   "source": [
    "import datetime\n",
    "#from sklearn.metrics import plot_confusion_matrix"
   ]
  },
  {
   "cell_type": "code",
   "execution_count": 5,
   "id": "af715a56",
   "metadata": {},
   "outputs": [],
   "source": [
    "#Loading the data \n",
    "path = os.listdir(r\"C:\\Users\\ASUS\\Desktop\\Digits\" )"
   ]
  },
  {
   "cell_type": "code",
   "execution_count": 6,
   "id": "c571d63e",
   "metadata": {},
   "outputs": [
    {
     "name": "stdout",
     "output_type": "stream",
     "text": [
      "Total number of Classes Detected : 10\n"
     ]
    }
   ],
   "source": [
    "dataX = []     \n",
    "datay = []  \n",
    "print(\"Total number of Classes Detected :\",len(path))\n",
    "data_classes = len(path)"
   ]
  },
  {
   "cell_type": "code",
   "execution_count": 7,
   "id": "3c85ed8a",
   "metadata": {},
   "outputs": [
    {
     "name": "stdout",
     "output_type": "stream",
     "text": [
      "Importing the Classes......\n",
      "0 1 2 3 4 5 6 7 8 9 "
     ]
    }
   ],
   "source": [
    "print(\"Importing the Classes......\")\n",
    "for i in range (0,data_classes):\n",
    "    data_list = os.listdir(r\"C:\\Users\\ASUS\\Desktop\\Digits\"+\"/\"+str(i))\n",
    "    for j in data_list:\n",
    "        pic = cv2.imread(r\"C:\\Users\\ASUS\\Desktop\\Digits\" +\"/\"+str(i)+\"/\"+j)\n",
    "        pic = cv2.resize(pic,(32,32))\n",
    "        dataX.append(pic)\n",
    "        datay.append(i)\n",
    "    print(i,end=\" \")"
   ]
  },
  {
   "cell_type": "code",
   "execution_count": 8,
   "id": "3170b6ef",
   "metadata": {},
   "outputs": [
    {
     "name": "stdout",
     "output_type": "stream",
     "text": [
      "Total Data points=  10113\n"
     ]
    }
   ],
   "source": [
    "if len(dataX) == len(datay) :\n",
    "    print(\"Total Data points= \",len(dataX))"
   ]
  },
  {
   "cell_type": "code",
   "execution_count": 9,
   "id": "2690a912",
   "metadata": {},
   "outputs": [
    {
     "name": "stdout",
     "output_type": "stream",
     "text": [
      "(10113, 32, 32, 3)\n",
      "(10113,)\n"
     ]
    }
   ],
   "source": [
    "# Labels and images\n",
    "dataX = np.array(dataX)\n",
    "datay = np.array(datay)\n",
    "print(dataX.shape)\n",
    "print(datay.shape)"
   ]
  },
  {
   "cell_type": "code",
   "execution_count": 15,
   "id": "150fb1a6",
   "metadata": {},
   "outputs": [
    {
     "name": "stdout",
     "output_type": "stream",
     "text": [
      "Training Set Shape =  (6472, 32, 32, 3)\n",
      "Validation Set Shape =  (1618, 32, 32, 3)\n",
      "Test Set Shape =  (2023, 32, 32, 3)\n"
     ]
    }
   ],
   "source": [
    "#Spliting the train validation and test sets\n",
    "x_train, x_test, y_train, y_test = train_test_split(dataX,datay,test_size=0.2)\n",
    "x_train, x_valid, y_train, y_valid = train_test_split(x_train,y_train,test_size=0.2)\n",
    "print(\"Training Set Shape = \",x_train.shape)\n",
    "print(\"Validation Set Shape = \",x_valid.shape)\n",
    "print(\"Test Set Shape = \",x_test.shape)"
   ]
  },
  {
   "cell_type": "code",
   "execution_count": 16,
   "id": "0f42e485",
   "metadata": {},
   "outputs": [
    {
     "name": "stdout",
     "output_type": "stream",
     "text": [
      "[668, 629, 665, 647, 647, 628, 648, 617, 674, 649]\n"
     ]
    },
    {
     "data": {
      "image/png": "[encoded data removed]",
      "text/plain": [
       "<Figure size 720x360 with 1 Axes>"
      ]
     },
     "metadata": {
      "needs_background": "light"
     },
     "output_type": "display_data"
    }
   ],
   "source": [
    "# Plotting Graph\n",
    "noofsamples = []\n",
    "for i in range(0,data_classes):\n",
    "    noofsamples.append(len(np.where(y_train==i)[0]))\n",
    "print(noofsamples)\n",
    "\n",
    "plt.figure(figsize=(10,5))\n",
    "plt.bar(range(0,data_classes),noofsamples)\n",
    "plt.title(\"Images for each class\")\n",
    "plt.xlabel(\"Class ID\")\n",
    "plt.ylabel(\"Nummber of images\")\n",
    "plt.show()"
   ]
  },
  {
   "cell_type": "code",
   "execution_count": 17,
   "id": "22bb55af",
   "metadata": {},
   "outputs": [],
   "source": [
    "#Preprocessing\n",
    "def Preprocessing(img):\n",
    "    img = cv2.cvtColor(img,cv2.COLOR_BGR2GRAY) # making image grayscale\n",
    "    img = cv2.equalizeHist(img) # Histogram equalization to enhance contrast\n",
    "    img = img/255 # normalizing\n",
    "    return img"
   ]
  },
  {
   "cell_type": "code",
   "execution_count": 18,
   "id": "f4716eb5",
   "metadata": {},
   "outputs": [
    {
     "data": {
      "text/plain": [
       "-1"
      ]
     },
     "execution_count": 18,
     "metadata": {},
     "output_type": "execute_result"
    }
   ],
   "source": [
    "# Checking the Preprocessed Image\n",
    "img=Preprocessing(x_train[30])\n",
    "img=cv2.resize(img,(300,300))\n",
    "cv2.imshow(\"Pre-Processed Image\",img)\n",
    "cv2.waitKey(0)"
   ]
  },
  {
   "cell_type": "code",
   "execution_count": 19,
   "id": "45c23419",
   "metadata": {},
   "outputs": [],
   "source": [
    "train_X = np.array(list(map(Preprocessing, x_train)))\n",
    "test_X = np.array(list(map(Preprocessing, x_test)))\n",
    "valid_X= np.array(list(map(Preprocessing, x_valid)))"
   ]
  },
  {
   "cell_type": "code",
   "execution_count": 20,
   "id": "e3d7ddf6",
   "metadata": {},
   "outputs": [],
   "source": [
    "#Reshaping the images\n",
    "train_X = train_X.reshape(train_X.shape[0], train_X.shape[1], train_X.shape[2],1)\n",
    "test_X = test_X.reshape(test_X.shape[0], test_X.shape[1], test_X.shape[2],1)\n",
    "valid_X = valid_X.reshape(valid_X.shape[0], valid_X.shape[1], valid_X.shape[2],1)"
   ]
  },
  {
   "cell_type": "code",
   "execution_count": 21,
   "id": "c01cf1a5",
   "metadata": {},
   "outputs": [],
   "source": [
    "#Augmentation\n",
    "datagen = ImageDataGenerator(width_shift_range=0.1,\n",
    "                             height_shift_range=0.1,\n",
    "                             zoom_range=0.2,\n",
    "                             shear_range=0.1,\n",
    "                             rotation_range=10)\n",
    "datagen.fit(train_X)"
   ]
  },
  {
   "cell_type": "code",
   "execution_count": 23,
   "id": "ec4727df",
   "metadata": {},
   "outputs": [],
   "source": [
    "# One hot encoding of the labels\n",
    "y_train = to_categorical(y_train, data_classes)\n",
    "y_test = to_categorical(y_test, data_classes)\n",
    "y_valid = to_categorical(y_valid, data_classes)"
   ]
  },
  {
   "cell_type": "code",
   "execution_count": 27,
   "id": "61ec8ee2",
   "metadata": {},
   "outputs": [],
   "source": [
    "### Our very simple model \n",
    "### A single convolution layer, followed by a dense layer followed by the output layer. \n",
    "### We're using linear regularisation and dropouts to prevent overfitting of the training data."
   ]
  },
  {
   "cell_type": "code",
   "execution_count": 34,
   "id": "bad3a1b1",
   "metadata": {},
   "outputs": [],
   "source": [
    " #Creating a Neural Network\n",
    "def mymodel():\n",
    "    sizeoffilter1=(5,5)\n",
    "    sizeoffilter2=(3,3)\n",
    "    sizeofpool=(2,2)\n",
    "    model = Sequential()\n",
    "\n",
    "    model.add((Conv2D(60,sizeoffilter1,input_shape=(32, 32, 1) ,activation='relu')))\n",
    "    model.add((Conv2D(60, sizeoffilter1,activation='relu')))\n",
    "    model.add(MaxPooling2D(pool_size=sizeofpool))\n",
    "    model.add((Conv2D(30, sizeoffilter2, activation='relu')))\n",
    "    model.add((Conv2D(30, sizeoffilter2, activation='relu')))\n",
    "    model.add(MaxPooling2D(pool_size=sizeofpool, strides=sizeofpool))\n",
    "    model.add(Dropout(0.5))\n",
    "\n",
    "    model.add(Flatten())\n",
    "    model.add(Dense(500,activation='relu'))\n",
    "    model.add(Dropout(0.5))\n",
    "    model.add(Dense(10, activation='softmax'))\n",
    "    \n",
    "    # Compiling the model\n",
    "    model.compile(Adam(learning_rate=0.001),loss='categorical_crossentropy',metrics=['accuracy'])\n",
    "    \n",
    "    return model\n"
   ]
  },
  {
   "cell_type": "code",
   "execution_count": 35,
   "id": "147f6fd9",
   "metadata": {},
   "outputs": [],
   "source": [
    "model=mymodel()"
   ]
  },
  {
   "cell_type": "code",
   "execution_count": 36,
   "id": "6eaf7ead",
   "metadata": {},
   "outputs": [
    {
     "name": "stdout",
     "output_type": "stream",
     "text": [
      "Model: \"sequential_3\"\n",
      "_________________________________________________________________\n",
      " Layer (type)                Output Shape              Param #   \n",
      "=================================================================\n",
      " conv2d_12 (Conv2D)          (None, 28, 28, 60)        1560      \n",
      "                                                                 \n",
      " conv2d_13 (Conv2D)          (None, 24, 24, 60)        90060     \n",
      "                                                                 \n",
      " max_pooling2d_6 (MaxPooling  (None, 12, 12, 60)       0         \n",
      " 2D)                                                             \n",
      "                                                                 \n",
      " conv2d_14 (Conv2D)          (None, 10, 10, 30)        16230     \n",
      "                                                                 \n",
      " conv2d_15 (Conv2D)          (None, 8, 8, 30)          8130      \n",
      "                                                                 \n",
      " max_pooling2d_7 (MaxPooling  (None, 4, 4, 30)         0         \n",
      " 2D)                                                             \n",
      "                                                                 \n",
      " dropout_6 (Dropout)         (None, 4, 4, 30)          0         \n",
      "                                                                 \n",
      " flatten_3 (Flatten)         (None, 480)               0         \n",
      "                                                                 \n",
      " dense_6 (Dense)             (None, 500)               240500    \n",
      "                                                                 \n",
      " dropout_7 (Dropout)         (None, 500)               0         \n",
      "                                                                 \n",
      " dense_7 (Dense)             (None, 10)                5010      \n",
      "                                                                 \n",
      "=================================================================\n",
      "Total params: 361,490\n",
      "Trainable params: 361,490\n",
      "Non-trainable params: 0\n",
      "_________________________________________________________________\n"
     ]
    }
   ],
   "source": [
    "model.summary()"
   ]
  },
  {
   "cell_type": "code",
   "execution_count": 41,
   "id": "273e2e14",
   "metadata": {},
   "outputs": [
    {
     "name": "stdout",
     "output_type": "stream",
     "text": [
      "Epoch 1/15\n",
      "200/200 - 26s - loss: 0.2550 - accuracy: 0.9191 - val_loss: 0.0491 - val_accuracy: 0.9858 - 26s/epoch - 132ms/step\n",
      "Epoch 2/15\n",
      "200/200 - 27s - loss: 0.1969 - accuracy: 0.9377 - val_loss: 0.0474 - val_accuracy: 0.9845 - 27s/epoch - 133ms/step\n",
      "Epoch 3/15\n",
      "200/200 - 27s - loss: 0.1674 - accuracy: 0.9493 - val_loss: 0.0311 - val_accuracy: 0.9889 - 27s/epoch - 133ms/step\n",
      "Epoch 4/15\n",
      "200/200 - 26s - loss: 0.1331 - accuracy: 0.9588 - val_loss: 0.0350 - val_accuracy: 0.9870 - 26s/epoch - 132ms/step\n",
      "Epoch 5/15\n",
      "200/200 - 26s - loss: 0.1347 - accuracy: 0.9569 - val_loss: 0.0510 - val_accuracy: 0.9808 - 26s/epoch - 132ms/step\n",
      "Epoch 6/15\n",
      "200/200 - 27s - loss: 0.1391 - accuracy: 0.9581 - val_loss: 0.0266 - val_accuracy: 0.9913 - 27s/epoch - 134ms/step\n",
      "Epoch 7/15\n",
      "200/200 - 27s - loss: 0.1183 - accuracy: 0.9627 - val_loss: 0.0256 - val_accuracy: 0.9926 - 27s/epoch - 133ms/step\n",
      "Epoch 8/15\n",
      "200/200 - 26s - loss: 0.1009 - accuracy: 0.9683 - val_loss: 0.0319 - val_accuracy: 0.9889 - 26s/epoch - 132ms/step\n",
      "Epoch 9/15\n",
      "200/200 - 26s - loss: 0.0913 - accuracy: 0.9718 - val_loss: 0.0246 - val_accuracy: 0.9907 - 26s/epoch - 132ms/step\n",
      "Epoch 10/15\n",
      "200/200 - 26s - loss: 0.1040 - accuracy: 0.9678 - val_loss: 0.0270 - val_accuracy: 0.9926 - 26s/epoch - 132ms/step\n",
      "Epoch 11/15\n",
      "200/200 - 26s - loss: 0.0938 - accuracy: 0.9721 - val_loss: 0.0223 - val_accuracy: 0.9944 - 26s/epoch - 132ms/step\n",
      "Epoch 12/15\n",
      "200/200 - 30s - loss: 0.0872 - accuracy: 0.9732 - val_loss: 0.0217 - val_accuracy: 0.9938 - 30s/epoch - 148ms/step\n",
      "Epoch 13/15\n",
      "200/200 - 32s - loss: 0.0788 - accuracy: 0.9732 - val_loss: 0.0257 - val_accuracy: 0.9932 - 32s/epoch - 160ms/step\n",
      "Epoch 14/15\n",
      "200/200 - 31s - loss: 0.0956 - accuracy: 0.9713 - val_loss: 0.0187 - val_accuracy: 0.9944 - 31s/epoch - 154ms/step\n",
      "Epoch 15/15\n",
      "200/200 - 29s - loss: 0.0679 - accuracy: 0.9782 - val_loss: 0.0163 - val_accuracy: 0.9951 - 29s/epoch - 147ms/step\n"
     ]
    }
   ],
   "source": [
    "#Fit the model\n",
    "\n",
    "history = model.fit(datagen.flow(train_X, y_train, batch_size=32),\n",
    "                              epochs = 15, validation_data = (valid_X, y_valid),\n",
    "                              verbose = 2, steps_per_epoch = 200,shuffle = 1)"
   ]
  },
  {
   "cell_type": "code",
   "execution_count": 50,
   "id": "c5f32aec",
   "metadata": {},
   "outputs": [
    {
     "name": "stdout",
     "output_type": "stream",
     "text": [
      "Test Score = 0.019078535959124565\n",
      "Test Accuracy = 0.9955511689186096\n"
     ]
    },
    {
     "data": {
      "image/png": "[encoded data removed]",
      "text/plain": [
       "<Figure size 432x288 with 1 Axes>"
      ]
     },
     "metadata": {
      "needs_background": "light"
     },
     "output_type": "display_data"
    },
    {
     "data": {
      "image/png": "[encoded data removed]",
      "text/plain": [
       "<Figure size 432x288 with 1 Axes>"
      ]
     },
     "metadata": {
      "needs_background": "light"
     },
     "output_type": "display_data"
    }
   ],
   "source": [
    "plt.figure(1)\n",
    "plt.plot(history.history['loss'])\n",
    "plt.plot(history.history['val_loss'])\n",
    "plt.legend(['Training','Validation'])\n",
    "plt.title(\"Loss\")\n",
    "plt.xlabel(\"epoch\")\n",
    "\n",
    "plt.figure(2)\n",
    "plt.plot(history.history['accuracy'])\n",
    "plt.plot(history.history['val_accuracy'])\n",
    "plt.legend(['Training','Validation'])\n",
    "plt.title(\"Accuracy\")\n",
    "plt.xlabel(\"epoch\")\n",
    "\n",
    "score = model.evaluate(test_X, y_test,verbose=0)\n",
    "print(\"Test Score =\",score[0])\n",
    "print(\"Test Accuracy =\",score[1])"
   ]
  },
  {
   "cell_type": "code",
   "execution_count": 51,
   "id": "f11aeb54",
   "metadata": {},
   "outputs": [
    {
     "name": "stdout",
     "output_type": "stream",
     "text": [
      "Model Saved!\n"
     ]
    }
   ],
   "source": [
    "model.save('gfModel.h5')\n",
    "print('Model Saved!')"
   ]
  },
  {
   "cell_type": "code",
   "execution_count": 52,
   "id": "ad2405ba",
   "metadata": {},
   "outputs": [
    {
     "name": "stdout",
     "output_type": "stream",
     "text": [
      "Model: \"sequential_3\"\n",
      "_________________________________________________________________\n",
      " Layer (type)                Output Shape              Param #   \n",
      "=================================================================\n",
      " conv2d_12 (Conv2D)          (None, 28, 28, 60)        1560      \n",
      "                                                                 \n",
      " conv2d_13 (Conv2D)          (None, 24, 24, 60)        90060     \n",
      "                                                                 \n",
      " max_pooling2d_6 (MaxPooling  (None, 12, 12, 60)       0         \n",
      " 2D)                                                             \n",
      "                                                                 \n",
      " conv2d_14 (Conv2D)          (None, 10, 10, 30)        16230     \n",
      "                                                                 \n",
      " conv2d_15 (Conv2D)          (None, 8, 8, 30)          8130      \n",
      "                                                                 \n",
      " max_pooling2d_7 (MaxPooling  (None, 4, 4, 30)         0         \n",
      " 2D)                                                             \n",
      "                                                                 \n",
      " dropout_6 (Dropout)         (None, 4, 4, 30)          0         \n",
      "                                                                 \n",
      " flatten_3 (Flatten)         (None, 480)               0         \n",
      "                                                                 \n",
      " dense_6 (Dense)             (None, 500)               240500    \n",
      "                                                                 \n",
      " dropout_7 (Dropout)         (None, 500)               0         \n",
      "                                                                 \n",
      " dense_7 (Dense)             (None, 10)                5010      \n",
      "                                                                 \n",
      "=================================================================\n",
      "Total params: 361,490\n",
      "Trainable params: 361,490\n",
      "Non-trainable params: 0\n",
      "_________________________________________________________________\n"
     ]
    }
   ],
   "source": [
    "savedModel=load_model('gfModel.h5')\n",
    "savedModel.summary()"
   ]
  },
  {
   "cell_type": "code",
   "execution_count": 55,
   "id": "44558c7c",
   "metadata": {},
   "outputs": [],
   "source": [
    "pickle.dump(test_X, open('xtest', 'wb')) "
   ]
  },
  {
   "cell_type": "code",
   "execution_count": 56,
   "id": "db114f75",
   "metadata": {},
   "outputs": [],
   "source": [
    "pickle.dump(y_test, open('ytest', 'wb')) "
   ]
  },
  {
   "cell_type": "code",
   "execution_count": null,
   "id": "3ed1b408",
   "metadata": {},
   "outputs": [],
   "source": []
  }
 ],
 "metadata": {
  "kernelspec": {
   "display_name": "Python 3 (ipykernel)",
   "language": "python",
   "name": "python3"
  },
  "language_info": {
   "codemirror_mode": {
    "name": "ipython",
    "version": 3
   },
   "file_extension": ".py",
   "mimetype": "text/x-python",
   "name": "python",
   "nbconvert_exporter": "python",
   "pygments_lexer": "ipython3",
   "version": "3.9.7"
  }
 },
 "nbformat": 4,
 "nbformat_minor": 5
}
